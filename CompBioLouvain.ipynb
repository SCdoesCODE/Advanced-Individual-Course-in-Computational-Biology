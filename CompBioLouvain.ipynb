{
  "nbformat": 4,
  "nbformat_minor": 0,
  "metadata": {
    "colab": {
      "name": "CompBioLouvain.ipynb",
      "provenance": [],
      "collapsed_sections": []
    },
    "kernelspec": {
      "name": "python3",
      "display_name": "Python 3"
    },
    "language_info": {
      "name": "python"
    }
  },
  "cells": [
    {
      "cell_type": "code",
      "metadata": {
        "colab": {
          "base_uri": "https://localhost:8080/"
        },
        "id": "zHsmaxeOGdO1",
        "outputId": "889b2219-e6e0-40e0-f40c-af5d49f76d1d"
      },
      "source": [
        "from google.colab import drive\n",
        "drive.mount('/content/gdrive')"
      ],
      "execution_count": null,
      "outputs": [
        {
          "output_type": "stream",
          "text": [
            "Mounted at /content/gdrive\n"
          ],
          "name": "stdout"
        }
      ]
    },
    {
      "cell_type": "code",
      "metadata": {
        "id": "1jgUUwAjGMOq"
      },
      "source": [
        "import numpy as np\n",
        "virus = 'influenza'\n",
        "with open('/content/gdrive/My Drive/KTH ÅR 4/P3/Comp Bio/Data/' + virus +'_knn_graph_shuffled.npy', 'rb') as f:\n",
        "    knn_graph = np.load(f)"
      ],
      "execution_count": null,
      "outputs": []
    },
    {
      "cell_type": "code",
      "metadata": {
        "colab": {
          "base_uri": "https://localhost:8080/",
          "height": 463
        },
        "id": "ACfq6k6iGU_e",
        "outputId": "c315d230-6c95-4123-bd2d-79cddb244dd3"
      },
      "source": [
        "!pip install scikit-network"
      ],
      "execution_count": null,
      "outputs": [
        {
          "output_type": "stream",
          "text": [
            "Collecting scikit-network\n",
            "\u001b[?25l  Downloading https://files.pythonhosted.org/packages/bf/f4/403eabdee313432825b6a35f4004d2f1715242e30d372e7bc22c6dccc744/scikit_network-0.23.1-cp37-cp37m-manylinux2014_x86_64.whl (8.4MB)\n",
            "\u001b[K     |████████████████████████████████| 8.4MB 5.7MB/s \n",
            "\u001b[?25hCollecting scipy>=1.6.2\n",
            "\u001b[?25l  Downloading https://files.pythonhosted.org/packages/7d/e8/43ffca541d2f208d516296950b25fe1084b35c2881f4d444c1346ca75815/scipy-1.6.3-cp37-cp37m-manylinux1_x86_64.whl (27.4MB)\n",
            "\u001b[K     |████████████████████████████████| 27.4MB 165kB/s \n",
            "\u001b[?25hCollecting numpy>=1.20.2\n",
            "\u001b[?25l  Downloading https://files.pythonhosted.org/packages/73/ef/8967d406f3f85018ceb5efab50431e901683188f1741ceb053efcab26c87/numpy-1.20.2-cp37-cp37m-manylinux2010_x86_64.whl (15.3MB)\n",
            "\u001b[K     |████████████████████████████████| 15.3MB 36.3MB/s \n",
            "\u001b[31mERROR: tensorflow 2.4.1 has requirement numpy~=1.19.2, but you'll have numpy 1.20.2 which is incompatible.\u001b[0m\n",
            "\u001b[31mERROR: datascience 0.10.6 has requirement folium==0.2.1, but you'll have folium 0.8.3 which is incompatible.\u001b[0m\n",
            "\u001b[31mERROR: albumentations 0.1.12 has requirement imgaug<0.2.7,>=0.2.5, but you'll have imgaug 0.2.9 which is incompatible.\u001b[0m\n",
            "\u001b[?25hInstalling collected packages: numpy, scipy, scikit-network\n",
            "  Found existing installation: numpy 1.19.5\n",
            "    Uninstalling numpy-1.19.5:\n",
            "      Successfully uninstalled numpy-1.19.5\n",
            "  Found existing installation: scipy 1.4.1\n",
            "    Uninstalling scipy-1.4.1:\n",
            "      Successfully uninstalled scipy-1.4.1\n",
            "Successfully installed numpy-1.20.2 scikit-network-0.23.1 scipy-1.6.3\n"
          ],
          "name": "stdout"
        },
        {
          "output_type": "display_data",
          "data": {
            "application/vnd.colab-display-data+json": {
              "pip_warning": {
                "packages": [
                  "numpy"
                ]
              }
            }
          },
          "metadata": {
            "tags": []
          }
        }
      ]
    },
    {
      "cell_type": "code",
      "metadata": {
        "colab": {
          "base_uri": "https://localhost:8080/"
        },
        "id": "2YHJzS6fGUZk",
        "outputId": "60ba364c-6492-4a86-88a1-f4cbfee3816e"
      },
      "source": [
        "from sknetwork.clustering import Louvain\n",
        "\n",
        "print(knn_graph.shape)\n",
        "\n",
        "louvain = Louvain()\n",
        "labels1 = louvain.fit_transform(knn_graph)\n",
        "\n",
        "print(labels1)\n",
        "\n",
        "print(set(labels1))\n",
        "\n",
        "\n",
        "first = []\n",
        "second = []\n",
        "for idx,i in enumerate(labels1):\n",
        "  if i == 0:\n",
        "    first.append(idx)\n",
        "  else:\n",
        "    second.append(idx)\n",
        "\n",
        "print(len(first))\n",
        "print(len(second))"
      ],
      "execution_count": null,
      "outputs": [
        {
          "output_type": "stream",
          "text": [
            "(1500, 1500)\n",
            "[0 0 0 ... 0 0 0]\n",
            "{0, 1}\n",
            "1489\n",
            "11\n"
          ],
          "name": "stdout"
        }
      ]
    },
    {
      "cell_type": "code",
      "metadata": {
        "id": "pL_w8vooCE5Z"
      },
      "source": [
        "virus = 'influenza'\n",
        "with open('/content/gdrive/My Drive/KTH ÅR 4/P3/Comp Bio/Data/' + virus +'_knn_graph_unshuffled.npy', 'rb') as f:\n",
        "    knn_graph = np.load(f)"
      ],
      "execution_count": null,
      "outputs": []
    },
    {
      "cell_type": "code",
      "metadata": {
        "colab": {
          "base_uri": "https://localhost:8080/"
        },
        "id": "Cp86lnePCJQu",
        "outputId": "1ce5b87d-c2a2-4af8-b02d-b7c418ff6ab1"
      },
      "source": [
        "from sknetwork.clustering import Louvain\n",
        "\n",
        "print(knn_graph.shape)\n",
        "\n",
        "louvain = Louvain()\n",
        "labels2 = louvain.fit_transform(knn_graph)\n",
        "\n",
        "print(labels2)\n",
        "\n",
        "print(set(labels2))\n",
        "\n",
        "\n",
        "first = []\n",
        "second = []\n",
        "for idx,i in enumerate(labels2):\n",
        "  if i == 0:\n",
        "    first.append(idx)\n",
        "  else:\n",
        "    second.append(idx)\n",
        "\n",
        "print(len(first))\n",
        "print(len(second))"
      ],
      "execution_count": null,
      "outputs": [
        {
          "output_type": "stream",
          "text": [
            "(1500, 1500)\n",
            "[0 0 0 ... 0 0 0]\n",
            "{0, 1}\n",
            "1489\n",
            "11\n"
          ],
          "name": "stdout"
        }
      ]
    },
    {
      "cell_type": "code",
      "metadata": {
        "colab": {
          "base_uri": "https://localhost:8080/"
        },
        "id": "GeNXkXJnEVAo",
        "outputId": "7c37fe36-debd-487d-d6fb-6d9e52e88b7d"
      },
      "source": [
        "labels1==labels2\n"
      ],
      "execution_count": null,
      "outputs": [
        {
          "output_type": "execute_result",
          "data": {
            "text/plain": [
              "array([ True,  True,  True, ...,  True,  True,  True])"
            ]
          },
          "metadata": {
            "tags": []
          },
          "execution_count": 26
        }
      ]
    }
  ]
}